{
 "cells": [
  {
   "cell_type": "code",
   "execution_count": null,
   "id": "44ff7734-cc06-44d2-a1b7-0f35b62341b4",
   "metadata": {},
   "outputs": [],
   "source": [
    "Q1. What is Bayes' theorem?"
   ]
  },
  {
   "cell_type": "code",
   "execution_count": null,
   "id": "4cb405ea-f1a0-4f8c-a11e-caf929e71d00",
   "metadata": {},
   "outputs": [],
   "source": [
    "Ans = Bayes Theorem states that the conditional probability of an event,\n",
    "based on the occurrence of another event, is equal to the likelihood of the second\n",
    "event given the first event multiplied by the probability of the first event."
   ]
  },
  {
   "cell_type": "code",
   "execution_count": null,
   "id": "f76ada54-08ec-4c1d-b663-584c177cb14d",
   "metadata": {},
   "outputs": [],
   "source": []
  },
  {
   "cell_type": "code",
   "execution_count": null,
   "id": "57b8897e-3dd3-44ed-8c09-9b05376f6043",
   "metadata": {},
   "outputs": [],
   "source": [
    "Q2. What is the formula for Bayes' theorem?"
   ]
  },
  {
   "cell_type": "code",
   "execution_count": null,
   "id": "87774bbe-2ace-4df3-a224-7cdcf70bd94c",
   "metadata": {},
   "outputs": [],
   "source": [
    "Ans = P(A|B) =  P(A)* P(B|A) /P(B)\n",
    "it is the formula of Bayes theorem."
   ]
  },
  {
   "cell_type": "code",
   "execution_count": null,
   "id": "6986f7e7-5f9f-4bd1-9e9a-d074c110c9c0",
   "metadata": {},
   "outputs": [],
   "source": []
  },
  {
   "cell_type": "code",
   "execution_count": null,
   "id": "e630fbcb-b46b-494d-8ab7-3daa6c577fa3",
   "metadata": {},
   "outputs": [],
   "source": [
    "Q3. How is Bayes' theorem used in practice?"
   ]
  },
  {
   "cell_type": "code",
   "execution_count": null,
   "id": "b31031a6-6636-420e-bb5a-bb287e1cccb7",
   "metadata": {},
   "outputs": [],
   "source": [
    "Ans = Bayes theorem gives the probability of an “event” with the given information on “tests”. \n",
    "There is a difference between “events” and “tests”.\n",
    "For example there is a test for liver disease,\n",
    "which is different from actually having the liver disease, i.e. an event."
   ]
  },
  {
   "cell_type": "code",
   "execution_count": null,
   "id": "6dfcfc60-033b-4d05-8e4c-164e1cd7838f",
   "metadata": {},
   "outputs": [],
   "source": []
  },
  {
   "cell_type": "code",
   "execution_count": null,
   "id": "d7a1b405-3bdf-4d38-a772-f8ad03db2e1c",
   "metadata": {},
   "outputs": [],
   "source": [
    "Q4. What is the relationship between Bayes' theorem and conditional probability?"
   ]
  },
  {
   "cell_type": "code",
   "execution_count": null,
   "id": "9cb1ba77-5252-4581-9aaa-0e22fadde1ad",
   "metadata": {},
   "outputs": [],
   "source": [
    "Ans = Bayes Theorem states that the conditional probability of an event, \n",
    "based on the occurrence of another event,\n",
    "is equal to the likelihood of the second event given the first event\n",
    "multiplied by the probability of the first event."
   ]
  },
  {
   "cell_type": "code",
   "execution_count": null,
   "id": "8a098d37-dcf6-4cf0-be4f-507227a03bd5",
   "metadata": {},
   "outputs": [],
   "source": []
  },
  {
   "cell_type": "code",
   "execution_count": null,
   "id": "aaafee91-b505-4e87-8673-d79a5f12759e",
   "metadata": {},
   "outputs": [],
   "source": [
    "Q5. How do you choose which type of Naive Bayes classifier to use for any given problem?"
   ]
  },
  {
   "cell_type": "code",
   "execution_count": null,
   "id": "cb8a1b79-d3b8-43f6-b813-01e7bb4a981a",
   "metadata": {},
   "outputs": [],
   "source": [
    "Ans = Step 1: Calculate the prior probability for given class labels. \n",
    "Step 2: Find Likelihood probability with each attribute for each class.\n",
    "Step 3: Put these value in Bayes Formula and calculate posterior probability.\n",
    "Step 4: See which class has a higher probability, given the input belongs to the higher probability class."
   ]
  },
  {
   "cell_type": "code",
   "execution_count": null,
   "id": "669f8a22-3a15-4f0c-a6f5-28c781484e6b",
   "metadata": {},
   "outputs": [],
   "source": []
  },
  {
   "cell_type": "code",
   "execution_count": null,
   "id": "a270ca99-5076-4b12-95b7-edf635c998c1",
   "metadata": {},
   "outputs": [],
   "source": [
    "bability. Step 4: See which class has a higher probability, given the input belongs to the higher probability class."
   ]
  }
 ],
 "metadata": {
  "kernelspec": {
   "display_name": "Python 3 (ipykernel)",
   "language": "python",
   "name": "python3"
  },
  "language_info": {
   "codemirror_mode": {
    "name": "ipython",
    "version": 3
   },
   "file_extension": ".py",
   "mimetype": "text/x-python",
   "name": "python",
   "nbconvert_exporter": "python",
   "pygments_lexer": "ipython3",
   "version": "3.10.8"
  }
 },
 "nbformat": 4,
 "nbformat_minor": 5
}
